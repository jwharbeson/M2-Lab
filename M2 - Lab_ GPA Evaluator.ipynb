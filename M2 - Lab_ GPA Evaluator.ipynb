{
 "cells": [
  {
   "cell_type": "code",
   "execution_count": null,
   "id": "9254b535-e2dc-4397-b250-4d618645d4f9",
   "metadata": {},
   "outputs": [
    {
     "name": "stdin",
     "output_type": "stream",
     "text": [
      "Enter student's last name (or 'ZZZ' to quit):  Harbeson\n",
      "Enter student's first name:  Johnny\n",
      "Enter student's GPA:  5.0\n"
     ]
    },
    {
     "name": "stdout",
     "output_type": "stream",
     "text": [
      "Johnny Harbeson has made the Dean's List.\n"
     ]
    }
   ],
   "source": [
    "# Johnny Harbeson\n",
    "# M2 - Lab: GPA_Evaluator\n",
    "# This app processes student records to determine if they qualify for the Dean's List or Honor Roll based on their GPA.\n",
    "\n",
    "def process_students():\n",
    "    while True:\n",
    "# Last Name\n",
    "        last_name = input(\"Enter student's last name (or 'ZZZ' to quit): \").strip()\n",
    "# ZZZ  \n",
    "        if last_name == 'ZZZ':\n",
    "            print(\"Processing terminated.\")\n",
    "            break\n",
    "# First Name\n",
    "        first_name = input(\"Enter student's first name: \").strip()\n",
    "# GPA      \n",
    "        try:\n",
    "            gpa = float(input(\"Enter student's GPA: \"))\n",
    "        except ValueError:\n",
    "            print(\"Invalid GPA. Please enter a numeric value.\")\n",
    "            continue    \n",
    "# Dean Calc\n",
    "        if gpa >= 3.5:\n",
    "            print(f\"{first_name} {last_name} has made the Dean's List.\")      \n",
    "# Honor Calc\n",
    "        elif gpa >= 3.25:\n",
    "            print(f\"{first_name} {last_name} has made the Honor Roll.\")\n",
    "# Ineligible Calc\n",
    "        else:\n",
    "            print(f\"{first_name} {last_name} does not qualify for the Dean's List or Honor Roll.\")\n",
    "            \n",
    "process_students()\n"
   ]
  },
  {
   "cell_type": "code",
   "execution_count": null,
   "id": "1c3aa867-b9ca-43c4-8934-17b32e76b7b3",
   "metadata": {},
   "outputs": [],
   "source": []
  }
 ],
 "metadata": {
  "kernelspec": {
   "display_name": "Python 3 (ipykernel)",
   "language": "python",
   "name": "python3"
  },
  "language_info": {
   "codemirror_mode": {
    "name": "ipython",
    "version": 3
   },
   "file_extension": ".py",
   "mimetype": "text/x-python",
   "name": "python",
   "nbconvert_exporter": "python",
   "pygments_lexer": "ipython3",
   "version": "3.12.4"
  }
 },
 "nbformat": 4,
 "nbformat_minor": 5
}
